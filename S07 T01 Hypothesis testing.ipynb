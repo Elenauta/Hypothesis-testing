{
 "cells": [
  {
   "cell_type": "markdown",
   "id": "7181c15d",
   "metadata": {},
   "source": [
    "### S07 T01: Tasca del test d'hipòtesis"
   ]
  },
  {
   "cell_type": "markdown",
   "id": "94eebdeb",
   "metadata": {},
   "source": [
    "- Exercici 1, N 1\\\n",
    "Agafa un conjunt de dades de tema esportiu que t'agradi i selecciona un atribut del conjunt de dades. Calcula el p-valor i digues si rebutja la hipòtesi nul·la agafant un alfa de 5%. \n",
    "\n"
   ]
  },
  {
   "cell_type": "code",
   "execution_count": 1,
   "id": "977e5f77",
   "metadata": {},
   "outputs": [],
   "source": [
    "import pandas as pd \n",
    "import seaborn as sns\n",
    "import matplotlib.pyplot as plt\n",
    "%matplotlib inline "
   ]
  },
  {
   "cell_type": "code",
   "execution_count": 2,
   "id": "58d5646f",
   "metadata": {},
   "outputs": [
    {
     "data": {
      "text/html": [
       "<div>\n",
       "<style scoped>\n",
       "    .dataframe tbody tr th:only-of-type {\n",
       "        vertical-align: middle;\n",
       "    }\n",
       "\n",
       "    .dataframe tbody tr th {\n",
       "        vertical-align: top;\n",
       "    }\n",
       "\n",
       "    .dataframe thead th {\n",
       "        text-align: right;\n",
       "    }\n",
       "</style>\n",
       "<table border=\"1\" class=\"dataframe\">\n",
       "  <thead>\n",
       "    <tr style=\"text-align: right;\">\n",
       "      <th></th>\n",
       "      <th>ID</th>\n",
       "      <th>Name</th>\n",
       "      <th>Sex</th>\n",
       "      <th>Age</th>\n",
       "      <th>Height</th>\n",
       "      <th>Weight</th>\n",
       "      <th>Team</th>\n",
       "      <th>NOC</th>\n",
       "      <th>Games</th>\n",
       "      <th>Year</th>\n",
       "      <th>Season</th>\n",
       "      <th>City</th>\n",
       "      <th>Sport</th>\n",
       "      <th>Event</th>\n",
       "      <th>Medal</th>\n",
       "    </tr>\n",
       "  </thead>\n",
       "  <tbody>\n",
       "    <tr>\n",
       "      <th>0</th>\n",
       "      <td>1</td>\n",
       "      <td>A Dijiang</td>\n",
       "      <td>M</td>\n",
       "      <td>24.0</td>\n",
       "      <td>180.0</td>\n",
       "      <td>80.0</td>\n",
       "      <td>China</td>\n",
       "      <td>CHN</td>\n",
       "      <td>1992 Summer</td>\n",
       "      <td>1992</td>\n",
       "      <td>Summer</td>\n",
       "      <td>Barcelona</td>\n",
       "      <td>Basketball</td>\n",
       "      <td>Basketball Men's Basketball</td>\n",
       "      <td>NaN</td>\n",
       "    </tr>\n",
       "  </tbody>\n",
       "</table>\n",
       "</div>"
      ],
      "text/plain": [
       "   ID       Name Sex   Age  Height  Weight   Team  NOC        Games  Year  \\\n",
       "0   1  A Dijiang   M  24.0   180.0    80.0  China  CHN  1992 Summer  1992   \n",
       "\n",
       "   Season       City       Sport                        Event Medal  \n",
       "0  Summer  Barcelona  Basketball  Basketball Men's Basketball   NaN  "
      ]
     },
     "execution_count": 2,
     "metadata": {},
     "output_type": "execute_result"
    }
   ],
   "source": [
    "df = pd.read_csv('athlete_events.csv')\n",
    "df.head(1)"
   ]
  },
  {
   "cell_type": "code",
   "execution_count": 3,
   "id": "624e59f5",
   "metadata": {},
   "outputs": [],
   "source": [
    "df.drop(['ID'], axis=1, inplace=True)"
   ]
  },
  {
   "cell_type": "code",
   "execution_count": 4,
   "id": "a4e0b029",
   "metadata": {
    "scrolled": true
   },
   "outputs": [
    {
     "name": "stdout",
     "output_type": "stream",
     "text": [
      "<class 'pandas.core.frame.DataFrame'>\n",
      "RangeIndex: 271116 entries, 0 to 271115\n",
      "Data columns (total 14 columns):\n",
      " #   Column  Non-Null Count   Dtype  \n",
      "---  ------  --------------   -----  \n",
      " 0   Name    271116 non-null  object \n",
      " 1   Sex     271116 non-null  object \n",
      " 2   Age     261642 non-null  float64\n",
      " 3   Height  210945 non-null  float64\n",
      " 4   Weight  208241 non-null  float64\n",
      " 5   Team    271116 non-null  object \n",
      " 6   NOC     271116 non-null  object \n",
      " 7   Games   271116 non-null  object \n",
      " 8   Year    271116 non-null  int64  \n",
      " 9   Season  271116 non-null  object \n",
      " 10  City    271116 non-null  object \n",
      " 11  Sport   271116 non-null  object \n",
      " 12  Event   271116 non-null  object \n",
      " 13  Medal   39783 non-null   object \n",
      "dtypes: float64(3), int64(1), object(10)\n",
      "memory usage: 29.0+ MB\n"
     ]
    }
   ],
   "source": [
    "df.info()"
   ]
  },
  {
   "cell_type": "code",
   "execution_count": 12,
   "id": "71fde47d",
   "metadata": {},
   "outputs": [
    {
     "data": {
      "text/html": [
       "<div>\n",
       "<style scoped>\n",
       "    .dataframe tbody tr th:only-of-type {\n",
       "        vertical-align: middle;\n",
       "    }\n",
       "\n",
       "    .dataframe tbody tr th {\n",
       "        vertical-align: top;\n",
       "    }\n",
       "\n",
       "    .dataframe thead th {\n",
       "        text-align: right;\n",
       "    }\n",
       "</style>\n",
       "<table border=\"1\" class=\"dataframe\">\n",
       "  <thead>\n",
       "    <tr style=\"text-align: right;\">\n",
       "      <th></th>\n",
       "      <th>Age</th>\n",
       "      <th>Height</th>\n",
       "      <th>Weight</th>\n",
       "      <th>Year</th>\n",
       "    </tr>\n",
       "  </thead>\n",
       "  <tbody>\n",
       "    <tr>\n",
       "      <th>count</th>\n",
       "      <td>261642.00</td>\n",
       "      <td>210945.00</td>\n",
       "      <td>208241.00</td>\n",
       "      <td>271116.00</td>\n",
       "    </tr>\n",
       "    <tr>\n",
       "      <th>mean</th>\n",
       "      <td>25.56</td>\n",
       "      <td>175.34</td>\n",
       "      <td>70.70</td>\n",
       "      <td>1978.38</td>\n",
       "    </tr>\n",
       "    <tr>\n",
       "      <th>std</th>\n",
       "      <td>6.39</td>\n",
       "      <td>10.52</td>\n",
       "      <td>14.35</td>\n",
       "      <td>29.88</td>\n",
       "    </tr>\n",
       "    <tr>\n",
       "      <th>min</th>\n",
       "      <td>10.00</td>\n",
       "      <td>127.00</td>\n",
       "      <td>25.00</td>\n",
       "      <td>1896.00</td>\n",
       "    </tr>\n",
       "    <tr>\n",
       "      <th>25%</th>\n",
       "      <td>21.00</td>\n",
       "      <td>168.00</td>\n",
       "      <td>60.00</td>\n",
       "      <td>1960.00</td>\n",
       "    </tr>\n",
       "    <tr>\n",
       "      <th>50%</th>\n",
       "      <td>24.00</td>\n",
       "      <td>175.00</td>\n",
       "      <td>70.00</td>\n",
       "      <td>1988.00</td>\n",
       "    </tr>\n",
       "    <tr>\n",
       "      <th>75%</th>\n",
       "      <td>28.00</td>\n",
       "      <td>183.00</td>\n",
       "      <td>79.00</td>\n",
       "      <td>2002.00</td>\n",
       "    </tr>\n",
       "    <tr>\n",
       "      <th>max</th>\n",
       "      <td>97.00</td>\n",
       "      <td>226.00</td>\n",
       "      <td>214.00</td>\n",
       "      <td>2016.00</td>\n",
       "    </tr>\n",
       "  </tbody>\n",
       "</table>\n",
       "</div>"
      ],
      "text/plain": [
       "             Age     Height     Weight       Year\n",
       "count  261642.00  210945.00  208241.00  271116.00\n",
       "mean       25.56     175.34      70.70    1978.38\n",
       "std         6.39      10.52      14.35      29.88\n",
       "min        10.00     127.00      25.00    1896.00\n",
       "25%        21.00     168.00      60.00    1960.00\n",
       "50%        24.00     175.00      70.00    1988.00\n",
       "75%        28.00     183.00      79.00    2002.00\n",
       "max        97.00     226.00     214.00    2016.00"
      ]
     },
     "execution_count": 12,
     "metadata": {},
     "output_type": "execute_result"
    }
   ],
   "source": [
    "df.describe().round(2)"
   ]
  },
  {
   "cell_type": "code",
   "execution_count": 36,
   "id": "7559f5e4",
   "metadata": {},
   "outputs": [
    {
     "data": {
      "image/png": "[encoded data removed]",
      "text/plain": [
       "<Figure size 1152x432 with 1 Axes>"
      ]
     },
     "metadata": {
      "needs_background": "light"
     },
     "output_type": "display_data"
    }
   ],
   "source": [
    "plt.figure(figsize=(16, 6))\n",
    "sns.histplot(data=df, x='Age', binwidth=1);"
   ]
  },
  {
   "cell_type": "code",
   "execution_count": 7,
   "id": "ccf136fe",
   "metadata": {},
   "outputs": [],
   "source": [
    "# We want to prove that the average athletes age is the mean age"
   ]
  },
  {
   "cell_type": "markdown",
   "id": "a64e8308",
   "metadata": {},
   "source": [
    "$H_0:\\mu_M = 25.56$  The average athletes age is 25,56 \\\n",
    "$H_1:\\mu_M \\neq 25.56$  The average athletes age is not 25,56"
   ]
  },
  {
   "cell_type": "code",
   "execution_count": 13,
   "id": "c4dff723",
   "metadata": {},
   "outputs": [
    {
     "name": "stdout",
     "output_type": "stream",
     "text": [
      "t Statistic:  4.552088067237927\n",
      "P Value:  5.313995446437849e-06\n",
      "We can reject H0\n"
     ]
    }
   ],
   "source": [
    "from scipy.stats import ttest_1samp\n",
    "\n",
    "alpha = 0.05\n",
    "tscore, pvalue = ttest_1samp(df.Age.dropna(), popmean=25.5)\n",
    "print('t Statistic: ', tscore)\n",
    "print('P Value: ', pvalue)\n",
    "print('We can not reject H0') if pvalue > alpha else print('We can reject H0')\n",
    "      "
   ]
  },
  {
   "cell_type": "markdown",
   "id": "f6900fd0",
   "metadata": {},
   "source": [
    "We reject the Null Hypothesis.\\\n",
    "We've got enough evidence to reject, with a significance level of 5%, that the average athletes age at the Olympics, from the begining till 2016 was 25,5."
   ]
  },
  {
   "cell_type": "markdown",
   "id": "5504d506",
   "metadata": {},
   "source": [
    "_____"
   ]
  },
  {
   "cell_type": "markdown",
   "id": "3f7bc6d4",
   "metadata": {},
   "source": [
    "- Exercici 2, N2\\\n",
    "Continua amb el conjunt de dades de tema esportiu que t'agradi i selecciona dos altres atributs del conjunt de dades. Calcula els p-valors i digues si rebutgen la hipòtesi nul·la agafant un alfa de 5%.\n",
    "\n"
   ]
  },
  {
   "cell_type": "code",
   "execution_count": 9,
   "id": "9c9235aa",
   "metadata": {},
   "outputs": [],
   "source": [
    "# Year and Sex, to state that the more recent the Olympics are the more women in it"
   ]
  },
  {
   "cell_type": "code",
   "execution_count": 34,
   "id": "23ab6736",
   "metadata": {
    "scrolled": false
   },
   "outputs": [
    {
     "data": {
      "image/png": "[encoded data removed]",
      "text/plain": [
       "<Figure size 1152x432 with 1 Axes>"
      ]
     },
     "metadata": {
      "needs_background": "light"
     },
     "output_type": "display_data"
    }
   ],
   "source": [
    "plt.figure(figsize=(16, 6))\n",
    "sns.histplot(data=df, x='Year', hue='Sex', binwidth=4);"
   ]
  },
  {
   "cell_type": "markdown",
   "id": "fa3480f7",
   "metadata": {},
   "source": [
    "____"
   ]
  },
  {
   "cell_type": "markdown",
   "id": "9cff2e42",
   "metadata": {},
   "source": [
    "Repositori: Hypothesis testing"
   ]
  }
 ],
 "metadata": {
  "kernelspec": {
   "display_name": "Python 3",
   "language": "python",
   "name": "python3"
  },
  "language_info": {
   "codemirror_mode": {
    "name": "ipython",
    "version": 3
   },
   "file_extension": ".py",
   "mimetype": "text/x-python",
   "name": "python",
   "nbconvert_exporter": "python",
   "pygments_lexer": "ipython3",
   "version": "3.8.8"
  }
 },
 "nbformat": 4,
 "nbformat_minor": 5
}
